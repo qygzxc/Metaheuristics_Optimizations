{
 "cells": [
  {
   "cell_type": "code",
   "execution_count": 1,
   "metadata": {},
   "outputs": [],
   "source": [
    "import random\n",
    "import string\n",
    "import numpy as np\n",
    "from deap import base, creator, tools"
   ]
  },
  {
   "cell_type": "code",
   "execution_count": 2,
   "metadata": {},
   "outputs": [],
   "source": [
    "class Runner:\n",
    "    \n",
    "    def __init__(self, toolbox):\n",
    "        self.toolbox = toolbox\n",
    "        self.set_parameters(10, 5, 2)\n",
    "        \n",
    "    def set_parameters(self, population_size, iterations, n_matings):\n",
    "        self.iterations = iterations\n",
    "        self.population_size = population_size\n",
    "        self.n_matings = n_matings\n",
    "        \n",
    "    def set_fitness(self, population):\n",
    "        fitnesses = [ \n",
    "            (individual, self.toolbox.evaluate(individual)) \n",
    "            for individual in population \n",
    "        ]\n",
    "\n",
    "        for individual, fitness in fitnesses:\n",
    "            individual.fitness.values = (fitness,)\n",
    "            \n",
    "    def get_offspring(self, population):\n",
    "        n = len(population)\n",
    "        for _ in range(self.n_matings):\n",
    "            i1, i2 = np.random.choice(range(n), size=2, replace=False)\n",
    "\n",
    "            offspring1, offspring2 = \\\n",
    "                self.toolbox.mate(population[i1], population[i2])\n",
    "            \n",
    "            yield self.toolbox.mutate(offspring1)[0]\n",
    "            yield self.toolbox.mutate(offspring2)[0]\n",
    "    \n",
    "    @staticmethod\n",
    "    def pull_stats(population, iteration=1):\n",
    "        fitnesses = [ individual.fitness.values[0] for individual in population ]\n",
    "        return {\n",
    "            'i': iteration,\n",
    "            'mu': np.mean(fitnesses),\n",
    "            'std': np.std(fitnesses),\n",
    "            'max': np.max(fitnesses),\n",
    "            'min': np.min(fitnesses)\n",
    "        }  \n",
    "    \n",
    "    def Run(self):\n",
    "        population = self.toolbox.population(n=self.population_size)\n",
    "        self.set_fitness(population)\n",
    "        \n",
    "        stats = []\n",
    "        for iteration in list(range(1, self.iterations + 1)):\n",
    "            current_population = list(map(self.toolbox.clone, population))\n",
    "            offspring = list(self.get_offspring(current_population))            \n",
    "            for child in offspring:\n",
    "                current_population.append(child)\n",
    "            \n",
    "            ## reset fitness,\n",
    "            self.set_fitness(current_population)\n",
    "            \n",
    "            population[:] = self.toolbox.select(current_population, len(population))\n",
    "            stats.append(\n",
    "                Runner.pull_stats(population, iteration))\n",
    "            \n",
    "        return stats, population"
   ]
  },
  {
   "cell_type": "code",
   "execution_count": 3,
   "metadata": {},
   "outputs": [],
   "source": [
    "creator.create(\"FitnessMin\", base.Fitness, weights=(-1.0,))\n",
    "creator.create(\"Individual\", list, fitness=creator.FitnessMin)"
   ]
  },
  {
   "cell_type": "code",
   "execution_count": 4,
   "metadata": {},
   "outputs": [],
   "source": [
    "## globals,\n",
    "\n",
    "random.seed(11);\n",
    "np.random.seed(121);\n",
    "\n",
    "\n",
    "INDIVIDUAL_SIZE = NUMBER_OF_CITIES = 100\n",
    "POPULATION_SIZE = 200\n",
    "N_ITERATIONS = 1000\n",
    "N_MATINGS = 50\n",
    "\n",
    "## \n",
    "\n",
    "## fake city names,\n",
    "cities = [ \n",
    "    ''.join(np.random.choice([ c for c in string.ascii_letters ], random.randint(5, 12))) \n",
    "    for i in range(NUMBER_OF_CITIES) \n",
    "]\n",
    "\n",
    "## fake distances,\n",
    "distances = np.zeros((NUMBER_OF_CITIES, NUMBER_OF_CITIES))\n",
    "for city in range(NUMBER_OF_CITIES):   \n",
    "    for to_city in [ i for i in range(NUMBER_OF_CITIES) if not i == city ]:\n",
    "        distances[to_city][city] = \\\n",
    "            distances[city][to_city] = random.randint(50, 2000)"
   ]
  },
  {
   "cell_type": "code",
   "execution_count": 5,
   "metadata": {},
   "outputs": [],
   "source": [
    "toolbox = base.Toolbox()\n",
    "\n",
    "## permutation setup for individual,\n",
    "toolbox.register(\"indices\", random.sample, range(INDIVIDUAL_SIZE), INDIVIDUAL_SIZE)\n",
    "toolbox.register(\"individual\", tools.initIterate, creator.Individual, toolbox.indices)\n",
    "\n",
    "## population setup,\n",
    "toolbox.register(\"population\", tools.initRepeat, list, toolbox.individual)"
   ]
  },
  {
   "cell_type": "code",
   "execution_count": 6,
   "metadata": {},
   "outputs": [],
   "source": [
    "def EVALUATE(individual):\n",
    "    summation = 0\n",
    "    start = individual[0]\n",
    "    for i in range(1, len(individual)):\n",
    "        end = individual[i]\n",
    "        summation += distances[start][end]\n",
    "        start = end\n",
    "    return summation\n",
    "\n",
    "toolbox.register(\"evaluate\", EVALUATE)"
   ]
  },
  {
   "cell_type": "code",
   "execution_count": 7,
   "metadata": {},
   "outputs": [],
   "source": [
    "toolbox.register(\"mate\", tools.cxOrdered)\n",
    "toolbox.register(\"mutate\", tools.mutShuffleIndexes, indpb=0.01)\n",
    "toolbox.register(\"select\", tools.selTournament, tournsize=10)"
   ]
  },
  {
   "cell_type": "code",
   "execution_count": 8,
   "metadata": {},
   "outputs": [],
   "source": [
    "a = Runner(toolbox)\n",
    "a.set_parameters(POPULATION_SIZE, N_ITERATIONS, N_MATINGS)\n",
    "\n",
    "stats, population = a.Run()"
   ]
  },
  {
   "cell_type": "code",
   "execution_count": null,
   "metadata": {},
   "outputs": [],
   "source": []
  },
  {
   "cell_type": "code",
   "execution_count": 11,
   "metadata": {},
   "outputs": [
    {
     "data": {
      "image/png": "[encoded data removed]",
      "text/plain": [
       "<Figure size 1080x360 with 2 Axes>"
      ]
     },
     "metadata": {},
     "output_type": "display_data"
    }
   ],
   "source": [
    "import matplotlib.pyplot as plt\n",
    "\n",
    "plt.figure(figsize=(15,5))\n",
    "\n",
    "plt.subplot(1,2,1)\n",
    "\n",
    "_ = plt.scatter([ s['min'] for s in stats ], [ s['max'] for s in stats ], marker='.', s=[ (s['std'] + 1) / 20 for s in stats ])\n",
    "\n",
    "_ = plt.title('min by max')\n",
    "_ = plt.xlabel('min')\n",
    "_ = plt.ylabel('max')\n",
    "\n",
    "_ = plt.plot(stats[0]['min'], stats[0]['max'], marker='.', color='yellow')\n",
    "_ = plt.plot(stats[-1]['min'], stats[-1]['max'], marker='.', color='red')\n",
    "\n",
    "\n",
    "plt.subplot(1,2,2)\n",
    "\n",
    "_ = plt.scatter([ s['i'] for s in stats ], [ s['mu'] for s in stats ], marker='.', s=[ (s['std'] + 1) / 20 for s in stats ])\n",
    "\n",
    "_ = plt.title('average by iteration')\n",
    "_ = plt.xlabel('iteration')\n",
    "_ = plt.ylabel('average')\n",
    "\n",
    "_ = plt.plot(stats[0]['i'], stats[0]['mu'], marker='.', color='yellow')\n",
    "_ = plt.plot(stats[-1]['i'], stats[-1]['mu'], marker='.', color='red')\n",
    "\n",
    "plt.tight_layout()\n",
    "plt.show()"
   ]
  },
  {
   "cell_type": "code",
   "execution_count": null,
   "metadata": {},
   "outputs": [],
   "source": []
  },
  {
   "cell_type": "code",
   "execution_count": 10,
   "metadata": {},
   "outputs": [
    {
     "data": {
      "text/plain": [
       "[(0, 20491.0), (1, 20491.0), (2, 20491.0), (3, 20491.0), (4, 20491.0)]"
      ]
     },
     "execution_count": 10,
     "metadata": {},
     "output_type": "execute_result"
    }
   ],
   "source": [
    "fitnesses = sorted([ \n",
    "    (i, toolbox.evaluate(individual)) \n",
    "    for i, individual in enumerate(population) \n",
    "], key=lambda x: x[1])\n",
    "\n",
    "fitnesses[:5]"
   ]
  },
  {
   "cell_type": "code",
   "execution_count": null,
   "metadata": {},
   "outputs": [],
   "source": []
  }
 ],
 "metadata": {
  "kernelspec": {
   "display_name": "Python 3",
   "language": "python",
   "name": "python3"
  },
  "language_info": {
   "codemirror_mode": {
    "name": "ipython",
    "version": 3
   },
   "file_extension": ".py",
   "mimetype": "text/x-python",
   "name": "python",
   "nbconvert_exporter": "python",
   "pygments_lexer": "ipython3",
   "version": "3.6.4"
  }
 },
 "nbformat": 4,
 "nbformat_minor": 2
}