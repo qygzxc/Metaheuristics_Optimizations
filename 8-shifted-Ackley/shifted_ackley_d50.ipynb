{
 "cells": [
  {
   "cell_type": "code",
   "execution_count": 1,
   "metadata": {},
   "outputs": [],
   "source": [
    "import os\n",
    "import time\n",
    "import math\n",
    "import pandas as pd\n",
    "import numpy as np\n",
    "import matplotlib.pyplot as plt\n",
    "\n",
    "from numba import jit\n",
    "import pygmo as pg"
   ]
  },
  {
   "cell_type": "code",
   "execution_count": 2,
   "metadata": {},
   "outputs": [],
   "source": [
    "funcs = {\"sphere\": 0, \"schwefel\": 1, \"rosenbrock\": 2, \"rastrigin\": 3, \"griewank\": 4, \"ackley\": 5}\n",
    "funcs_dispname = {\"sphere\": \"F1 : Shifted Sphere Function\", \n",
    "                  \"schwefel\": \"F2 : Schwefel’s Problem 2.21\",\n",
    "                  \"rosenbrock\": \"F3 : Shifted Rosenbrock’s Function\",\n",
    "                  \"rastrigin\": \"F4 : Shifted Rastrigin’s Function\",\n",
    "                  \"griewank\": \"F5 : Shifted Griewank’s Function\",\n",
    "                  \"ackley\": \"F6 : Shifted Ackley’s Function\"}"
   ]
  },
  {
   "cell_type": "code",
   "execution_count": 3,
   "metadata": {},
   "outputs": [],
   "source": [
    "def read_values(func):\n",
    "    val_path = os.path.join('../data/', func + '.csv')\n",
    "    bias_path = '../data/f_bias.csv'\n",
    "    ss_path = '../data/search_space.csv'\n",
    "    \n",
    "    func_df = pd.read_csv(val_path)\n",
    "    bias_df = pd.read_csv(bias_path)\n",
    "    searchspace_df = pd.read_csv(ss_path)\n",
    "\n",
    "    funcval = func_df.fvalue.values\n",
    "    funcbias = bias_df.fvalue.values[funcs[func]]\n",
    "    search_space = list(searchspace_df.iloc[funcs[func],])\n",
    "    return funcval, funcbias, search_space"
   ]
  },
  {
   "cell_type": "code",
   "execution_count": 4,
   "metadata": {},
   "outputs": [],
   "source": [
    "# function evaluation definitions\n",
    "\n",
    "@jit(nopython=True)\n",
    "def eval_fitness(x, dim):\n",
    "    \n",
    "    if func_name == \"sphere\":\n",
    "        F = 0\n",
    "        for i in range(dim - 1):\n",
    "            z = x[i] - funcval[i]\n",
    "            F += z * z\n",
    "        result = F + funcbias\n",
    "    elif func_name == \"schwefel\":\n",
    "        F = abs(x[0]- funcval[0])\n",
    "        for i in range(1,dim - 1):\n",
    "            z = x[i] - funcval[i]\n",
    "            F = max(F, abs(z))\n",
    "        result = F + funcbias\n",
    "    elif func_name == \"rosenbrock\":\n",
    "        F = 0\n",
    "        y = np.empty(dim)\n",
    "        for i in range(dim - 1):\n",
    "            y[i] = x[i] - funcval[i] +1\n",
    "        for i in range(dim-2):\n",
    "            F += 100 * ((y[i]**2-y[i+1])**2) + (y[i]-1)**2\n",
    "        result = F + funcbias\n",
    "    elif func_name == \"rastrigin\":\n",
    "        F = 0\n",
    "        for i in range(dim - 1):\n",
    "            z = x[i] - funcval[i]\n",
    "            F += z ** 2 - 10 * math.cos(2 * math.pi * z) + 10\n",
    "        result = F + funcbias\n",
    "        \n",
    "    elif func_name == \"griewank\":\n",
    "        F1 = 0\n",
    "        F2 = 1\n",
    "        for i in range(dim - 1):\n",
    "            z = x[i] - funcval[i]\n",
    "            F1 += z ** 2 / 4000\n",
    "            F2 += math.cos(z / math.sqrt(i + 1))\n",
    "        result = F1 - F2 + 1 + funcbias\n",
    "    elif func_name == \"ackley\":\n",
    "        Sum1 = 0\n",
    "        Sum2 = 0\n",
    "        for i in range(dim - 1):\n",
    "            z = x[i] - funcval[i]\n",
    "            Sum1 += z ** 2\n",
    "            Sum2 += math.cos(2 * math.pi * z)\n",
    "        result = -20 * math.exp(-0.2 * math.sqrt(Sum1 / dim)) - math.exp(Sum2 / dim) + 20 + math.e + funcbias\n",
    "    else:\n",
    "        result = 0\n",
    "    \n",
    "    return result"
   ]
  },
  {
   "cell_type": "code",
   "execution_count": 5,
   "metadata": {},
   "outputs": [],
   "source": [
    "# Define UDP problem Class\n",
    "\n",
    "class My_problem:\n",
    "    def __init__(self, dim, bounds, glob_opt):\n",
    "        self.lower_bound = bounds[0]\n",
    "        self.upper_bound = bounds[1]\n",
    "        self.dimension = dim\n",
    "        self.fitness_per_eval = []\n",
    "        self.glob_opt = glob_opt\n",
    "\n",
    "    def fitness(self, x):\n",
    "        result = eval_fitness(x, self.dimension)\n",
    "        return [result]\n",
    "\n",
    "    def get_bounds(self):\n",
    "        x_min = self.lower_bound * np.ones(self.dimension)\n",
    "        x_max = self.upper_bound * np.ones(self.dimension)\n",
    "        return x_min, x_max"
   ]
  },
  {
   "cell_type": "code",
   "execution_count": 6,
   "metadata": {},
   "outputs": [],
   "source": [
    "# function to run selected algorithm on defined problem\n",
    "\n",
    "def solve_pb(dim, my_algo, bounds, optim, popsize):\n",
    "    pop = None\n",
    "    prob = pg.problem(My_problem(dim, bounds, optim))\n",
    "    pop = pg.population(prob, popsize)\n",
    "\n",
    "    my_algo.set_verbosity(100)\n",
    "\n",
    "    t1 = time.time()\n",
    "    pop = my_algo.evolve(pop)\n",
    "    t2 = time.time()\n",
    "\n",
    "    time_diff = t2-t1\n",
    "    \n",
    "    if my_algo.get_name().split(\":\")[0] == \"PSO\":\n",
    "        extract_algo = my_algo.extract(pg.pso)\n",
    "    elif my_algo.get_name().split(\":\")[0] == \"GPSO\":\n",
    "        extract_algo = my_algo.extract(pg.pso_gen)\n",
    "    elif my_algo.get_name().split(\":\")[0] == \"DE\":\n",
    "        extract_algo = my_algo.extract(pg.de)\n",
    "    elif my_algo.get_name().split(\":\")[0] == \"saDE\":\n",
    "        extract_algo = my_algo.extract(pg.sade)\n",
    "    elif my_algo.get_name().split(\":\")[0] == \"sa-DE1220\":\n",
    "        extract_algo = my_algo.extract(pg.de1220)\n",
    "    elif my_algo.get_name().split(\":\")[0] == \"SGA\":\n",
    "        extract_algo = my_algo.extract(pg.sga)\n",
    "    elif my_algo.get_name().split(\":\")[0] == \"ABC\":\n",
    "        extract_algo = my_algo.extract(pg.bee_colony)\n",
    "    \n",
    "    log = extract_algo.get_log()-funcbias\n",
    "    curve = [x[2] for x in log]\n",
    "    niter = log[-1][0]\n",
    "    \n",
    "    return pop, curve, niter, time_diff"
   ]
  },
  {
   "cell_type": "code",
   "execution_count": 7,
   "metadata": {},
   "outputs": [],
   "source": [
    "# function to make print report of function solving\n",
    "\n",
    "def print_solution(dimension, my_algo, pop_evolved, log, niter, duration):\n",
    "    algorithm_name = my_algo.get_name()\n",
    "    parameters = my_algo.get_extra_info()\n",
    "    solution_x = pop_evolved.champion_x\n",
    "    fitness = pop_evolved.champion_f[0]-funcbias\n",
    "    n_evals = pop_evolved.problem.get_fevals()\n",
    "    \n",
    "    print(\"Function: %s\" % funcs_dispname[func_name])\n",
    "    print(\"Problem dimension: %d\" % dimension)\n",
    "    print(\"Search Space : \", search_space)\n",
    "    print(\"Global Optimum: %.2f\\n\" % funcbias)\n",
    "    print(\"Algorithm: %s\" % algorithm_name)\n",
    "    print(\"Parameters: \\n%s\\n\" % parameters)\n",
    "    print(\"Fitness: %f\" % fitness)\n",
    "    print(\"Solution: \")\n",
    "    with pd.option_context('display.max_rows',8):\n",
    "        print(pd.DataFrame(solution_x, columns=['X']))\n",
    "    print(\"\\nNb of functions evaluations: %d\" % n_evals)\n",
    "    print(\"Stopping criterion: after %d iterations\" % niter)\n",
    "    print(\"computational time: %.3f seconds\" % duration)\n",
    "\n",
    "    plt.plot(log)\n",
    "    plt.xlabel(\"iterations (x100)\")\n",
    "    plt.ylabel(\"fitness: f(x)-f(x*)\")\n",
    "    plt.show()"
   ]
  },
  {
   "cell_type": "code",
   "execution_count": 8,
   "metadata": {},
   "outputs": [],
   "source": [
    "# select function of problem to be solved\n",
    "# function to choose: sphere, schwefel, rosenbrock, rastrigin, griewank, ackley\n",
    "func_name = 'ackley'\n",
    "funcval, funcbias, search_space = read_values(func_name)"
   ]
  },
  {
   "cell_type": "code",
   "execution_count": 9,
   "metadata": {},
   "outputs": [],
   "source": [
    "# define algorithm\n",
    "gen=1500\n",
    "\n",
    "algo = pg.algorithm(pg.bee_colony(gen=gen, \n",
    "                                  limit=1\n",
    "                                 ))\n",
    "pop_size = 250"
   ]
  },
  {
   "cell_type": "code",
   "execution_count": 10,
   "metadata": {
    "scrolled": false
   },
   "outputs": [
    {
     "name": "stdout",
     "output_type": "stream",
     "text": [
      "Function: F6 : Shifted Ackley’s Function\n",
      "Problem dimension: 50\n",
      "Search Space :  [-32, 32]\n",
      "Global Optimum: -140.00\n",
      "\n",
      "Algorithm: ABC: Artificial Bee Colony\n",
      "Parameters: \n",
      "\tMaximum number of generations: 1500\n",
      "\tLimit: 1\n",
      "\tVerbosity: 100\n",
      "\tSeed: 3431310135\n",
      "\n",
      "Fitness: 0.055898\n",
      "Solution: \n",
      "            X\n",
      "0   27.007771\n",
      "1  -16.131643\n",
      "2    6.410548\n",
      "3   -0.841724\n",
      "..        ...\n",
      "46  12.566558\n",
      "47  -4.266413\n",
      "48 -11.722959\n",
      "49  27.887851\n",
      "\n",
      "[50 rows x 1 columns]\n",
      "\n",
      "Nb of functions evaluations: 750250\n",
      "Stopping criterion: after 1541 iterations\n",
      "computational time: 4.172 seconds\n"
     ]
    },
    {
     "data": {
      "image/png": "[encoded data removed]",
      "text/plain": [
       "<Figure size 432x288 with 1 Axes>"
      ]
     },
     "metadata": {
      "needs_background": "light"
     },
     "output_type": "display_data"
    }
   ],
   "source": [
    "# run algorithm and print solution\n",
    "DIM = 50\n",
    "\n",
    "pop_evolv, logs, nit, compute_time = solve_pb(dim=DIM, \n",
    "                                              my_algo=algo, \n",
    "                                              bounds=search_space, \n",
    "                                              optim=funcbias, \n",
    "                                              popsize=pop_size\n",
    "                                             )\n",
    "\n",
    "print_solution(dimension=DIM, \n",
    "               my_algo=algo, \n",
    "               pop_evolved=pop_evolv, \n",
    "               log=logs, \n",
    "               niter=nit, \n",
    "               duration=compute_time\n",
    "              )"
   ]
  }
 ],
 "metadata": {
  "kernelspec": {
   "display_name": "meta",
   "language": "python",
   "name": "meta"
  },
  "language_info": {
   "codemirror_mode": {
    "name": "ipython",
    "version": 3
   },
   "file_extension": ".py",
   "mimetype": "text/x-python",
   "name": "python",
   "nbconvert_exporter": "python",
   "pygments_lexer": "ipython3",
   "version": "3.7.6"
  }
 },
 "nbformat": 4,
 "nbformat_minor": 4
}
