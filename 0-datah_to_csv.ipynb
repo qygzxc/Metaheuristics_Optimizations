{
 "cells": [
  {
   "cell_type": "markdown",
   "metadata": {},
   "source": [
    "# Extract values of functions from data.h and export it as CSV files"
   ]
  },
  {
   "cell_type": "code",
   "execution_count": 1,
   "metadata": {},
   "outputs": [],
   "source": [
    "import pickle\n",
    "import pandas as pd\n",
    "import os"
   ]
  },
  {
   "cell_type": "code",
   "execution_count": 2,
   "metadata": {},
   "outputs": [],
   "source": [
    "DATAH_PATH = './assignment/cec08/'\n",
    "EXPORT_PATH = './data/'"
   ]
  },
  {
   "cell_type": "code",
   "execution_count": 3,
   "metadata": {},
   "outputs": [],
   "source": [
    "with open(os.path.join(DATAH_PATH,'data.h'),'r') as f:\n",
    "    lines = f.readlines()"
   ]
  },
  {
   "cell_type": "code",
   "execution_count": 4,
   "metadata": {},
   "outputs": [
    {
     "name": "stdout",
     "output_type": "stream",
     "text": [
      "function sphere: \t1000 values, \texported to sphere.csv\n",
      "function schwefel: \t1000 values, \texported to schwefel.csv\n",
      "function rosenbrock: \t1000 values, \texported to rosenbrock.csv\n",
      "function rastrigin: \t1000 values, \texported to rastrigin.csv\n",
      "function griewank: \t1000 values, \texported to griewank.csv\n",
      "function ackley: \t1000 values, \texported to ackley.csv\n",
      "function f_bias: \t6 values, \texported to f_bias.csv\n"
     ]
    }
   ],
   "source": [
    "idx=0\n",
    "\n",
    "while idx < len(lines):\n",
    "    if lines[idx].startswith('#endif'):\n",
    "        break\n",
    "    if lines[idx].startswith('double'):\n",
    "        fname = lines[idx].split(' ')[1].split('[')[0]\n",
    "        idx += 1\n",
    "        fvalues=[]\n",
    "        while not '}' in lines[idx]:\n",
    "            line = lines[idx].strip()\n",
    "            if len(line) != 0:\n",
    "                numbers = line.split(',')\n",
    "                numbers2 = [float(i.strip()) for i in numbers if len(i) != 0]\n",
    "                fvalues += numbers2\n",
    "            idx += 1\n",
    "        df = pd.DataFrame(fvalues)\n",
    "        df.to_csv(os.path.join(EXPORT_PATH,fname+'.csv'),index=False,header=['fvalue'])\n",
    "        print(\"function %s: \\t%d values, \\texported to %s\" %(fname,len(fvalues),fname+'.csv'))\n",
    "    idx += 1"
   ]
  }
 ],
 "metadata": {
  "kernelspec": {
   "display_name": "Python [conda env:meta]",
   "language": "python",
   "name": "conda-env-meta-py"
  },
  "language_info": {
   "codemirror_mode": {
    "name": "ipython",
    "version": 3
   },
   "file_extension": ".py",
   "mimetype": "text/x-python",
   "name": "python",
   "nbconvert_exporter": "python",
   "pygments_lexer": "ipython3",
   "version": "3.7.6"
  }
 },
 "nbformat": 4,
 "nbformat_minor": 4
}
