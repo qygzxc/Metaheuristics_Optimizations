{
 "cells": [
  {
   "cell_type": "code",
   "execution_count": 2,
   "metadata": {},
   "outputs": [],
   "source": [
    "from scipy import optimize\n",
    "import numpy as np\n",
    "import matplotlib.pyplot as plt\n",
    "import pandas as pd\n",
    "from numba import jit\n",
    "import time"
   ]
  },
  {
   "cell_type": "code",
   "execution_count": 2,
   "metadata": {},
   "outputs": [],
   "source": [
    "fitness_per_eval = []\n",
    "fitness_per_iter = []"
   ]
  },
  {
   "cell_type": "code",
   "execution_count": 3,
   "metadata": {},
   "outputs": [],
   "source": [
    "rosenbrockdf = pd.read_csv('../data/rosenbrock.csv')\n",
    "f_biasdf = pd.read_csv('../data/f_bias.csv')\n",
    "\n",
    "rosenbrock = rosenbrockdf.fvalue.values\n",
    "f_bias = f_biasdf.fvalue.values"
   ]
  },
  {
   "cell_type": "code",
   "execution_count": 4,
   "metadata": {},
   "outputs": [],
   "source": [
    "f_xstar = f_bias[2]\n",
    "search_space = (-100,100)"
   ]
  },
  {
   "cell_type": "markdown",
   "metadata": {},
   "source": [
    "double Shifted_Rosenbrock( int dim , double* x ){\n",
    "    \n",
    "    int i;\n",
    "    double z[dim];\n",
    "    double F = 0;\n",
    "\n",
    "    for(i=0;i<dim;i++) z[i] = x[i] - rosenbrock[i] + 1;   \n",
    "\n",
    "    for(i=0;i<dim-1;i++){    \n",
    "        F = F + 100*( pow((pow(z[i],2)-z[i+1]) , 2) ) + pow((z[i]-1) , 2);\n",
    "    }\n",
    "    return F + f_bias[2]; \n",
    "}"
   ]
  },
  {
   "cell_type": "code",
   "execution_count": 3,
   "metadata": {},
   "outputs": [],
   "source": [
    "class ShiftedRosen(FloatProblem):\n",
    "    def __init__(self, number_of_variables: int = 10):\n",
    "        super(MyRosen, self).__init__()\n",
    "        self.number_of_objectives = 1\n",
    "        self.number_of_variables = number_of_variables\n",
    "        self.number_of_constraints = 0\n",
    "\n",
    "        self.obj_directions = [self.MINIMIZE]\n",
    "        self.obj_labels = ['f(x)']\n",
    "\n",
    "        self.lower_bound = [-100. for _ in range(number_of_variables)]\n",
    "        self.upper_bound = [100. for _ in range(number_of_variables)]\n",
    "\n",
    "        FloatSolution.lower_bound = self.lower_bound\n",
    "        FloatSolution.upper_bound = self.upper_bound\n",
    "\n",
    "    def evaluate(self, solution: FloatSolution) -> FloatSolution:\n",
    "        dim = solution.number_of_variables\n",
    "        F = 0\n",
    "        z = np.empty(50)\n",
    "        x = solution.variables\n",
    "        for i in range(dim - 1):\n",
    "            z[i] = x[i] - rosenbrock[i] + 1\n",
    "\n",
    "        for i in range(dim - 2):\n",
    "            F += 100 * ((z[i] ** 2 - z[i + 1]) ** 2) + (z[i] - 1) ** 2\n",
    "\n",
    "        result = F + f_xstar\n",
    "\n",
    "        solution.objectives[0] = result\n",
    "        return solution\n",
    "\n",
    "    def get_name(self) -> str:\n",
    "        return 'Shifted RosenBrock'"
   ]
  }
 ],
 "metadata": {
  "kernelspec": {
   "display_name": "meta",
   "language": "python",
   "name": "meta"
  },
  "language_info": {
   "codemirror_mode": {
    "name": "ipython",
    "version": 3
   },
   "file_extension": ".py",
   "mimetype": "text/x-python",
   "name": "python",
   "nbconvert_exporter": "python",
   "pygments_lexer": "ipython3",
   "version": "3.7.6"
  }
 },
 "nbformat": 4,
 "nbformat_minor": 4
}
