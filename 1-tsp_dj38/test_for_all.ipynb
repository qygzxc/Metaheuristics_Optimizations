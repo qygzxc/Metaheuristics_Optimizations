{
 "cells": [
  {
   "cell_type": "code",
   "execution_count": 1,
   "metadata": {},
   "outputs": [],
   "source": [
    "import os\n",
    "import time\n",
    "import math\n",
    "import random\n",
    "import re\n",
    "\n",
    "import pandas as pd\n",
    "import numpy as np\n",
    "import matplotlib.pyplot as plt\n",
    "\n",
    "from numba import jit\n",
    "\n",
    "from jmetal.core.problem import PermutationProblem\n",
    "from jmetal.core.solution import PermutationSolution\n",
    "\n",
    "from jmetal.algorithm.singleobjective import genetic_algorithm\n",
    "\n",
    "from jmetal.operator import mutation\n",
    "from jmetal.operator import crossover\n",
    "\n",
    "from jmetal.operator import BestSolutionSelection\n",
    "\n",
    "from jmetal.util import termination_criterion"
   ]
  },
  {
   "cell_type": "code",
   "execution_count": 2,
   "metadata": {},
   "outputs": [],
   "source": [
    "# Define problem Class\n",
    "\n",
    "# add a method to get the actual values for each city to be plotted.\n",
    "\n",
    "class myTSP(PermutationProblem):\n",
    "    def __init__(self, instance: str = None):\n",
    "        super(myTSP, self).__init__()\n",
    "\n",
    "        distance_matrix, number_of_cities = self.__read_from_file(instance)\n",
    "        self.distance_matrix = distance_matrix\n",
    "        self.number_of_variables = number_of_cities\n",
    "\n",
    "        self.obj_directions = [self.MINIMIZE]\n",
    "        self.number_of_objectives = 1\n",
    "        self.number_of_constraints = 0\n",
    "\n",
    "    def __read_from_file(self, filename: str):\n",
    "        if filename is None:\n",
    "            raise FileNotFoundError('Filename can not be None')\n",
    "        with open(filename) as file:\n",
    "            lines = file.readlines()\n",
    "            data = [line.lstrip() for line in lines if line != \"\"]\n",
    "            dimension = re.compile(r'[^\\d]+')\n",
    "            for item in data:\n",
    "                if item.startswith('DIMENSION'):\n",
    "                    dimension = int(dimension.sub('', item))\n",
    "                    break\n",
    "            c = [-1.0] * (2 * dimension)\n",
    "            for item in data:\n",
    "                if item[0].isdigit():\n",
    "                    j, city_a, city_b = [float(x.strip()) for x in item.split(' ')]\n",
    "                    c[2 * (int(j) - 1)] = city_a\n",
    "                    c[2 * (int(j) - 1) + 1] = city_b\n",
    "            matrix = [[-1] * dimension for _ in range(dimension)]\n",
    "            for k in range(dimension):\n",
    "                matrix[k][k] = 0\n",
    "                for j in range(k + 1, dimension):\n",
    "                    dist = math.sqrt((c[k * 2] - c[j * 2]) ** 2 + (c[k * 2 + 1] - c[j * 2 + 1]) ** 2)\n",
    "                    dist = round(dist)\n",
    "                    matrix[k][j] = dist\n",
    "                    matrix[j][k] = dist\n",
    "            return matrix, dimension\n",
    "        \n",
    "#     @jit(nopython=True)\n",
    "    def evaluate(self, solution: PermutationSolution) -> PermutationSolution:\n",
    "        fitness = 0\n",
    "        for i in range(self.number_of_variables - 1):\n",
    "            x = solution.variables[i]\n",
    "            y = solution.variables[i + 1]\n",
    "            fitness += self.distance_matrix[x][y]\n",
    "        first_city, last_city = solution.variables[0], solution.variables[-1]\n",
    "        fitness += self.distance_matrix[first_city][last_city]\n",
    "        solution.objectives[0] = fitness\n",
    "        eval_fitness.append(fitness)\n",
    "        return solution\n",
    "\n",
    "    def create_solution(self) -> PermutationSolution:\n",
    "        new_solution = PermutationSolution(number_of_variables=self.number_of_variables,\n",
    "                                           number_of_objectives=self.number_of_objectives)\n",
    "        new_solution.variables = random.sample(range(self.number_of_variables), k=self.number_of_variables)\n",
    "        return new_solution\n",
    "\n",
    "    @property\n",
    "    def number_of_cities(self):\n",
    "        return self.number_of_variables\n",
    "\n",
    "    def get_name(self):\n",
    "        return 'Symmetric TSP'"
   ]
  },
  {
   "cell_type": "code",
   "execution_count": 3,
   "metadata": {},
   "outputs": [],
   "source": [
    "# function to run selected algorithm on defined problem\n",
    "\n"
   ]
  },
  {
   "cell_type": "code",
   "execution_count": 4,
   "metadata": {},
   "outputs": [],
   "source": [
    "# function to make print report of function solving\n",
    "\n",
    "def print_solution(dimension, my_algo, pop_evolved, log, niter, duration):\n",
    "    algorithm_name = my_algo.get_name()\n",
    "    parameters = my_algo.get_extra_info()\n",
    "    solution_x = pop_evolved.champion_x\n",
    "    fitness = pop_evolved.champion_f[0]-funcbias\n",
    "    n_evals = pop_evolved.problem.get_fevals()\n",
    "    \n",
    "    print(\"Function: %s\" % funcs_dispname[func_name])\n",
    "    print(\"Problem dimension: %d\" % dimension)\n",
    "    print(\"Search Space : \", search_space)\n",
    "    print(\"Global Optimum: %.2f\\n\" % funcbias)\n",
    "    print(\"Algorithm: %s\" % algorithm_name)\n",
    "    print(\"Parameters: \\n%s\\n\" % parameters)\n",
    "    print(\"Fitness: %f\" % fitness)\n",
    "    print(\"Solution: \")\n",
    "    with pd.option_context('display.max_rows',8):\n",
    "        print(pd.DataFrame(solution_x, columns=['X']))\n",
    "    print(\"\\nNb of functions evaluations: %d\" % n_evals)\n",
    "    print(\"Stopping criterion: after %d iterations\" % niter)\n",
    "    print(\"computational time: %.3f seconds\" % duration)\n",
    "\n",
    "    plt.plot(log)\n",
    "    plt.xlabel(\"iterations (x100)\")\n",
    "    plt.ylabel(\"fitness: f(x)-f(x*)\")\n",
    "    plt.show()"
   ]
  },
  {
   "cell_type": "code",
   "execution_count": 5,
   "metadata": {},
   "outputs": [],
   "source": [
    "# instantiate problem to solve\n",
    "\n",
    "myproblem = myTSP(instance='./dj38.tsp')\n",
    "\n",
    "# *************************************************************************************"
   ]
  },
  {
   "cell_type": "code",
   "execution_count": 9,
   "metadata": {},
   "outputs": [],
   "source": [
    "# define algorithm to use\n",
    "\n",
    "popsize = 100\n",
    "offspring = 50\n",
    "mut = mutation.PermutationSwapMutation(0.05)\n",
    "cross = crossover.PMXCrossover(0.8)\n",
    "select = BestSolutionSelection()\n",
    "termin = termination_criterion.StoppingByEvaluations(max_evaluations=500*popsize)\n",
    "\n",
    "algorithm = genetic_algorithm.GeneticAlgorithm(\n",
    "    problem=myproblem,\n",
    "    population_size=popsize,\n",
    "    offspring_population_size=offspring,\n",
    "    mutation=mut,\n",
    "    crossover=cross,\n",
    "    selection=select,\n",
    "    termination_criterion=termin\n",
    ")\n"
   ]
  },
  {
   "cell_type": "code",
   "execution_count": 10,
   "metadata": {
    "scrolled": false
   },
   "outputs": [],
   "source": [
    "# run algorithm and print solution\n",
    "eval_fitness = []\n",
    "algorithm.run()\n",
    "result = algorithm.get_result()"
   ]
  },
  {
   "cell_type": "code",
   "execution_count": 11,
   "metadata": {},
   "outputs": [
    {
     "name": "stdout",
     "output_type": "stream",
     "text": [
      "Algorithm: Genetic algorithm\n",
      "Problem: Symmetric TSP\n",
      "Solution: [17, 27, 36, 34, 24, 14, 12, 15, 11, 10, 4, 2, 3, 5, 6, 23, 21, 1, 0, 9, 13, 20, 28, 33, 35, 30, 26, 18, 8, 7, 19, 22, 25, 29, 31, 37, 32, 16]\n",
      "Fitness: 11462\n",
      "Nb of evaluations: 50000\n",
      "Computing time: 15.657098054885864\n"
     ]
    },
    {
     "data": {
      "image/png": "[encoded data removed]",
      "text/plain": [
       "<Figure size 432x288 with 1 Axes>"
      ]
     },
     "metadata": {
      "needs_background": "light"
     },
     "output_type": "display_data"
    }
   ],
   "source": [
    "print('Algorithm: {}'.format(algorithm.get_name()))\n",
    "print('Problem: {}'.format(myproblem.get_name()))\n",
    "print('Solution: {}'.format(result.variables))\n",
    "print('Fitness: {}'.format(result.objectives[0]))\n",
    "print('Nb of evaluations: {}'.format(len(eval_fitness)))\n",
    "print('Computing time: {}'.format(algorithm.total_computing_time))\n",
    "plt.plot(eval_fitness, 'r.')\n",
    "plt.title('Fitness: %d' % result.objectives[0])\n",
    "plt.show()"
   ]
  }
 ],
 "metadata": {
  "kernelspec": {
   "display_name": "Python [conda env:meta]",
   "language": "python",
   "name": "conda-env-meta-py"
  },
  "language_info": {
   "codemirror_mode": {
    "name": "ipython",
    "version": 3
   },
   "file_extension": ".py",
   "mimetype": "text/x-python",
   "name": "python",
   "nbconvert_exporter": "python",
   "pygments_lexer": "ipython3",
   "version": "3.7.6"
  }
 },
 "nbformat": 4,
 "nbformat_minor": 4
}
