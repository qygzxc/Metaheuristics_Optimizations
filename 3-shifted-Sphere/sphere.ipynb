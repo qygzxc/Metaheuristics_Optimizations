{
 "cells": [
  {
   "cell_type": "code",
   "execution_count": 1,
   "metadata": {},
   "outputs": [],
   "source": [
    "from scipy import optimize\n",
    "import numpy as np\n",
    "import matplotlib.pyplot as plt\n",
    "import pandas as pd\n",
    "from numba import jit\n",
    "import time"
   ]
  },
  {
   "cell_type": "code",
   "execution_count": 2,
   "metadata": {},
   "outputs": [],
   "source": [
    "fitness_per_eval = []\n",
    "fitness_per_iter = []"
   ]
  },
  {
   "cell_type": "code",
   "execution_count": 3,
   "metadata": {},
   "outputs": [],
   "source": [
    "spheredf = pd.read_csv('../data/sphere.csv')\n",
    "f_biasdf = pd.read_csv('../data/f_bias.csv')\n",
    "\n",
    "sphere = spheredf.fvalue.values\n",
    "f_bias = f_biasdf.fvalue.values"
   ]
  },
  {
   "cell_type": "code",
   "execution_count": 4,
   "metadata": {},
   "outputs": [],
   "source": [
    "f_xstar = f_bias[0]\n",
    "search_space = (-100,100)"
   ]
  },
  {
   "cell_type": "code",
   "execution_count": 5,
   "metadata": {},
   "outputs": [],
   "source": [
    "@jit(nopython=True)\n",
    "def fsphere(x, dim):\n",
    "    F = 0\n",
    "    for i in range(dim-1):\n",
    "        z = x[i]-sphere[i]\n",
    "        F += z*z\n",
    "    result = F + f_bias[0]\n",
    "  \n",
    "    return result"
   ]
  },
  {
   "cell_type": "code",
   "execution_count": 6,
   "metadata": {},
   "outputs": [],
   "source": [
    "def f(x,dim):\n",
    "    result = fsphere(x,dim)\n",
    "    fitness_per_eval.append(result-f_xstar)\n",
    "    return result"
   ]
  },
  {
   "cell_type": "code",
   "execution_count": 7,
   "metadata": {},
   "outputs": [],
   "source": [
    "def callback_f(xk):\n",
    "     result = fsphere(xk,D)\n",
    "     fitness_per_iter.append(result-f_xstar)"
   ]
  },
  {
   "cell_type": "code",
   "execution_count": 8,
   "metadata": {},
   "outputs": [],
   "source": [
    "def initial_solution(dim,bounds):\n",
    "    # bounds\n",
    "    xmin, xmax = bounds\n",
    "    x_min = xmin * np.ones(D)\n",
    "    x_max = xmax * np.ones(D)\n",
    "    cur_x = np.random.uniform(min(x_min), max(x_max), (1, D))\n",
    "    return cur_x"
   ]
  },
  {
   "cell_type": "code",
   "execution_count": 9,
   "metadata": {
    "scrolled": true
   },
   "outputs": [],
   "source": [
    "def optimize_minimize(dim,search_space,method,options):\n",
    "    global fitness_per_eval\n",
    "    global fitness_per_iter\n",
    "    \n",
    "    fitness_per_eval = []\n",
    "    fitness_per_iter = []\n",
    "    \n",
    "    result=None\n",
    "    cur_x = initial_solution(dim,search_space)\n",
    "    t0 = time.time()\n",
    "    result = optimize.minimize(f, args=(dim), x0=cur_x, method=method, options=options, callback=callback_f)\n",
    "    t1 = time.time()\n",
    "    return result, t1-t0"
   ]
  },
  {
   "cell_type": "code",
   "execution_count": 10,
   "metadata": {},
   "outputs": [],
   "source": [
    "D = 50\n",
    "\n",
    "# method = 'L-BFGS-B'\n",
    "# options = {'maxiter': 100, 'gtol': 1e-5, 'disp': False}\n",
    "method = 'SLSQP'\n",
    "options = {'maxiter': 100, 'ftol': 1e-5, 'disp': False}\n",
    "\n",
    "result, duration = optimize_minimize(D,search_space,method,options)"
   ]
  },
  {
   "cell_type": "code",
   "execution_count": 18,
   "metadata": {},
   "outputs": [
    {
     "name": "stdout",
     "output_type": "stream",
     "text": [
      "Algorithm: SLSQP\n",
      "Parameters: {'maxiter': 100, 'ftol': 1e-05, 'disp': False}\n",
      "Solution: -450.000000 - Fitness: 0.000000\n",
      "Nb of functions evaluations: 1508 in 3 iterations\n",
      "Stopping criterion: Optimization terminated successfully.\n",
      "computanional time: 0.171 seconds\n"
     ]
    }
   ],
   "source": [
    "print(\"Algorithm: %s\" % method)\n",
    "print(\"Parameters: %s\" % options)\n",
    "print(\"Solution: %f - Fitness: %f\" % (result.fun,fitness_per_eval[-1]))\n",
    "print(\"Nb of functions evaluations: %d in %d iterations\" % (result.nfev,result.nit))\n",
    "print(\"Stopping criterion: %s\" % result.message)\n",
    "print(\"computanional time: %.3f seconds\" % duration)"
   ]
  },
  {
   "cell_type": "code",
   "execution_count": 12,
   "metadata": {
    "scrolled": true
   },
   "outputs": [
    {
     "data": {
      "image/png": "[encoded data removed]",
      "text/plain": [
       "<Figure size 432x288 with 1 Axes>"
      ]
     },
     "metadata": {
      "needs_background": "light"
     },
     "output_type": "display_data"
    }
   ],
   "source": [
    "plt.plot(fitness_per_eval)\n",
    "plt.show();"
   ]
  },
  {
   "cell_type": "code",
   "execution_count": 13,
   "metadata": {
    "scrolled": false
   },
   "outputs": [
    {
     "data": {
      "image/png": "[encoded data removed]",
      "text/plain": [
       "<Figure size 432x288 with 1 Axes>"
      ]
     },
     "metadata": {
      "needs_background": "light"
     },
     "output_type": "display_data"
    }
   ],
   "source": [
    "plt.plot(fitness_per_iter)\n",
    "plt.show();"
   ]
  },
  {
   "cell_type": "code",
   "execution_count": 14,
   "metadata": {},
   "outputs": [],
   "source": [
    "D = 500\n",
    "\n",
    "# method = 'L-BFGS-B'\n",
    "# options = {'maxiter': 100, 'gtol': 1e-5, 'disp': False}\n",
    "method = 'SLSQP'\n",
    "options = {'maxiter': 100, 'ftol': 1e-5, 'disp': False}\n",
    "\n",
    "result, duration = optimize_minimize(D,search_space,method,options)"
   ]
  },
  {
   "cell_type": "code",
   "execution_count": 19,
   "metadata": {},
   "outputs": [
    {
     "name": "stdout",
     "output_type": "stream",
     "text": [
      "Algorithm: SLSQP\n",
      "Parameters: {'maxiter': 100, 'ftol': 1e-05, 'disp': False}\n",
      "Solution: -450.000000 - Fitness: 0.000000\n",
      "Nb of functions evaluations: 1508 in 3 iterations\n",
      "Stopping criterion: Optimization terminated successfully.\n",
      "computanional time: 0.171 seconds\n"
     ]
    }
   ],
   "source": [
    "print(\"Algorithm: %s\" % method)\n",
    "print(\"Parameters: %s\" % options)\n",
    "print(\"Solution: %f - Fitness: %f\" % (result.fun,fitness_per_eval[-1]))\n",
    "print(\"Nb of functions evaluations: %d in %d iterations\" % (result.nfev,result.nit))\n",
    "print(\"Stopping criterion: %s\" % result.message)\n",
    "print(\"computanional time: %.3f seconds\" % duration)"
   ]
  },
  {
   "cell_type": "code",
   "execution_count": 16,
   "metadata": {
    "scrolled": true
   },
   "outputs": [
    {
     "data": {
      "image/png": "[encoded data removed]",
      "text/plain": [
       "<Figure size 432x288 with 1 Axes>"
      ]
     },
     "metadata": {
      "needs_background": "light"
     },
     "output_type": "display_data"
    }
   ],
   "source": [
    "plt.plot(fitness_per_eval)\n",
    "plt.show();"
   ]
  },
  {
   "cell_type": "code",
   "execution_count": 17,
   "metadata": {
    "scrolled": true
   },
   "outputs": [
    {
     "data": {
      "image/png": "[encoded data removed]",
      "text/plain": [
       "<Figure size 432x288 with 1 Axes>"
      ]
     },
     "metadata": {
      "needs_background": "light"
     },
     "output_type": "display_data"
    }
   ],
   "source": [
    "plt.plot(fitness_per_iter)\n",
    "plt.show();"
   ]
  }
 ],
 "metadata": {
  "kernelspec": {
   "display_name": "Python [conda env:meta]",
   "language": "python",
   "name": "conda-env-meta-py"
  },
  "language_info": {
   "codemirror_mode": {
    "name": "ipython",
    "version": 3
   },
   "file_extension": ".py",
   "mimetype": "text/x-python",
   "name": "python",
   "nbconvert_exporter": "python",
   "pygments_lexer": "ipython3",
   "version": "3.7.6"
  }
 },
 "nbformat": 4,
 "nbformat_minor": 4
}
