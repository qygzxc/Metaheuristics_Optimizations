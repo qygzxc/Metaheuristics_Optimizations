{
 "cells": [
  {
   "cell_type": "code",
   "execution_count": 1,
   "metadata": {},
   "outputs": [],
   "source": [
    "import os\n",
    "import time\n",
    "import math\n",
    "import pandas as pd\n",
    "import numpy as np\n",
    "import matplotlib.pyplot as plt\n",
    "\n",
    "from numba import jit\n",
    "from scipy import optimize"
   ]
  },
  {
   "cell_type": "code",
   "execution_count": 2,
   "metadata": {},
   "outputs": [],
   "source": [
    "funcs = {\"sphere\": 0, \"schwefel\": 1, \"rosenbrock\": 2, \"rastrigin\": 3, \"griewank\": 4, \"ackley\": 5}\n",
    "funcs_dispname = {\"sphere\": \"F1 : Shifted Sphere Function\", \n",
    "                  \"schwefel\": \"F2 : Schwefel’s Problem 2.21\",\n",
    "                  \"rosenbrock\": \"F3 : Shifted Rosenbrock’s Function\",\n",
    "                  \"rastrigin\": \"F4 : Shifted Rastrigin’s Function\",\n",
    "                  \"griewank\": \"F5 : Shifted Griewank’s Function\",\n",
    "                  \"ackley\": \"F6 : Shifted Ackley’s Function\"}"
   ]
  },
  {
   "cell_type": "code",
   "execution_count": 3,
   "metadata": {},
   "outputs": [],
   "source": [
    "def read_values(func):\n",
    "    val_path = os.path.join('../data/', func_name + '.csv')\n",
    "    bias_path = '../data/f_bias.csv'\n",
    "    ss_path = '../data/search_space.csv'\n",
    "    \n",
    "    func_df = pd.read_csv(val_path)\n",
    "    bias_df = pd.read_csv(bias_path)\n",
    "    searchspace_df = pd.read_csv(ss_path)\n",
    "\n",
    "    funcval = func_df.fvalue.values\n",
    "    funcbias = bias_df.fvalue.values[funcs[func_name]]\n",
    "    search_space = list(searchspace_df.iloc[funcs[func_name],])\n",
    "    return funcval, funcbias, search_space"
   ]
  },
  {
   "cell_type": "code",
   "execution_count": 4,
   "metadata": {},
   "outputs": [],
   "source": [
    "# function evaluation definitions\n",
    "\n",
    "@jit(nopython=True)\n",
    "def eval_fitness(x, dim):\n",
    "    \n",
    "    if func_name == \"sphere\":\n",
    "        F = 0\n",
    "        for i in range(dim - 1):\n",
    "            z = x[i] - funcval[i]\n",
    "            F += z * z\n",
    "        result = F + funcbias\n",
    "    elif func_name == \"schwefel\":\n",
    "        F = abs(x[0]- funcval[0])\n",
    "        for i in range(1,dim - 1):\n",
    "            z = x[i] - funcval[i]\n",
    "            F = max(F, abs(z))\n",
    "        result = F + funcbias\n",
    "    elif func_name == \"rosenbrock\":\n",
    "        F = 0\n",
    "        y = np.empty(dim)\n",
    "        for i in range(dim - 1):\n",
    "            y[i] = x[i] - funcval[i] +1\n",
    "        for i in range(dim-2):\n",
    "            F += 100 * ((y[i]**2-y[i+1])**2) + (y[i]-1)**2\n",
    "        result = F + funcbias\n",
    "    elif func_name == \"rastrigin\":\n",
    "        F = 0\n",
    "        for i in range(dim - 1):\n",
    "            z = x[i] - funcval[i]\n",
    "            F += z ** 2 - 10 * math.cos(2 * math.pi * z) + 10\n",
    "        result = F + funcbias\n",
    "        \n",
    "    elif func_name == \"griewank\":\n",
    "        F1 = 0\n",
    "        F2 = 1\n",
    "        for i in range(dim - 1):\n",
    "            z = x[i] - funcval[i]\n",
    "            F1 += z ** 2 / 4000\n",
    "            F2 += math.cos(z / math.sqrt(i + 1))\n",
    "        result = F1 - F2 + 1 + funcbias\n",
    "    elif func_name == \"ackley\":\n",
    "        Sum1 = 0\n",
    "        Sum2 = 0\n",
    "        for i in range(dim - 1):\n",
    "            z = x[i] - funcval[i]\n",
    "            Sum1 += z ** 2\n",
    "            Sum2 += math.cos(2 * math.pi * z)\n",
    "        result = -20 * math.exp(-0.2 * math.sqrt(Sum1 / dim)) - math.exp(Sum2 / dim) + 20 + math.e + funcbias\n",
    "    else:\n",
    "        result = 0\n",
    "    \n",
    "    return result"
   ]
  },
  {
   "cell_type": "code",
   "execution_count": 5,
   "metadata": {},
   "outputs": [],
   "source": [
    "def f(x, dim):\n",
    "    result = eval_fitness(x, dim)\n",
    "    fitness_per_eval.append(result)\n",
    "    return result"
   ]
  },
  {
   "cell_type": "code",
   "execution_count": 6,
   "metadata": {},
   "outputs": [],
   "source": [
    "def initial_solution(dim, bounds):\n",
    "    xmin, xmax = bounds\n",
    "    x_min = xmin * np.ones(dim)\n",
    "    x_max = xmax * np.ones(dim)\n",
    "    cur_x = np.random.uniform(min(x_min), max(x_max), (1, dim))\n",
    "    return cur_x "
   ]
  },
  {
   "cell_type": "code",
   "execution_count": 7,
   "metadata": {},
   "outputs": [],
   "source": [
    "def optimize_minimize(dim, search_space, method, options):\n",
    "    \n",
    "    cur_x = initial_solution(dim, search_space)\n",
    "    t1 = time.time()\n",
    "    result = optimize.minimize(f, args=(dim), x0=cur_x, method=method, options=options)\n",
    "    t2 = time.time()\n",
    "    \n",
    "    return result, t2-t1, fitness_per_eval"
   ]
  },
  {
   "cell_type": "code",
   "execution_count": 8,
   "metadata": {},
   "outputs": [],
   "source": [
    "# function to make print report of function solving\n",
    "\n",
    "def print_solution(dimension, method, options, result, log, duration):\n",
    "    \n",
    "    algorithm_name = method\n",
    "    parameters = options\n",
    "    solution_x = result.x\n",
    "    fitness = log[-1]-funcbias\n",
    "    n_evals = len(log)\n",
    "    niter = result.nit\n",
    "    print('-'*60)\n",
    "    print(\"Function: %s\" % funcs_dispname[func_name])\n",
    "    print(\"Problem dimension: %d\" % dimension)\n",
    "    print(\"Search Space: \", search_space)\n",
    "    print(\"Global Optimum: %.2f\\n\" % funcbias)\n",
    "    print('-'*60)\n",
    "    print(\"Algorithm: %s\" % algorithm_name)\n",
    "    print(\"Parameters: \\n%s\" % parameters)\n",
    "    print('-'*60)\n",
    "    print(\"Fitness: %f\" % fitness)\n",
    "    print(\"Solution: \")\n",
    "    with pd.option_context('display.max_rows',10):\n",
    "        print(pd.DataFrame(solution_x, columns=['X']))\n",
    "    print('-'*60)\n",
    "    print(\"Nb of functions evaluations: %d\" % n_evals)\n",
    "    print(\"Stopping criterion: ftol achieved: %.2e\" % options['ftol'])\n",
    "    print(result.message)\n",
    "    print(\"computational time: %.3f seconds\" % duration)\n",
    "\n",
    "    plt.plot(log-funcbias)\n",
    "    plt.xlabel(\"iterations\")\n",
    "    plt.ylabel(\"fitness: f(x)-f(x*)\")\n",
    "    plt.show()"
   ]
  },
  {
   "cell_type": "code",
   "execution_count": 9,
   "metadata": {},
   "outputs": [],
   "source": [
    "# select function of problem to be solved\n",
    "\n",
    "# function to choose: sphere, schwefel, rosenbrock, rastrigin, griewank, ackley\n",
    "func_name = 'sphere'\n",
    "funcval, funcbias, search_space = read_values(func_name)"
   ]
  },
  {
   "cell_type": "code",
   "execution_count": 10,
   "metadata": {},
   "outputs": [],
   "source": [
    "# define algorithm and parameters to use\n",
    "\n",
    "method = 'SLSQP'\n",
    "options = {'maxiter': 100, 'ftol': 1e-5, 'disp': False}"
   ]
  },
  {
   "cell_type": "code",
   "execution_count": 11,
   "metadata": {},
   "outputs": [
    {
     "name": "stdout",
     "output_type": "stream",
     "text": [
      "------------------------------------------------------------\n",
      "Function: F1 : Shifted Sphere Function\n",
      "Problem dimension: 500\n",
      "Search Space:  [-100, 100]\n",
      "Global Optimum: -450.00\n",
      "\n",
      "------------------------------------------------------------\n",
      "Algorithm: SLSQP\n",
      "Parameters: \n",
      "{'maxiter': 100, 'ftol': 1e-05, 'disp': False}\n",
      "------------------------------------------------------------\n",
      "Fitness: 0.000000\n",
      "Solution: \n",
      "             X\n",
      "0    97.249938\n",
      "1    77.060987\n",
      "2   -19.031148\n",
      "3    25.428701\n",
      "4   -22.908800\n",
      "..         ...\n",
      "495 -70.131730\n",
      "496 -17.071779\n",
      "497 -86.203056\n",
      "498  76.838818\n",
      "499  48.044517\n",
      "\n",
      "[500 rows x 1 columns]\n",
      "------------------------------------------------------------\n",
      "Nb of functions evaluations: 1508\n",
      "Stopping criterion: ftol achieved: 1.00e-05\n",
      "Optimization terminated successfully.\n",
      "computational time: 0.396 seconds\n"
     ]
    },
    {
     "data": {
      "image/png": "[encoded data removed]",
      "text/plain": [
       "<Figure size 432x288 with 1 Axes>"
      ]
     },
     "metadata": {
      "needs_background": "light"
     },
     "output_type": "display_data"
    }
   ],
   "source": [
    "# run algorithm and print solution\n",
    "DIM = 500\n",
    "fitness_per_eval = []\n",
    "\n",
    "result, duration, logs = optimize_minimize(DIM, search_space, method, options)\n",
    "print_solution(dimension=DIM, method=method, options=options, result=result, log=logs, duration=duration)"
   ]
  }
 ],
 "metadata": {
  "kernelspec": {
   "display_name": "meta",
   "language": "python",
   "name": "meta"
  },
  "language_info": {
   "codemirror_mode": {
    "name": "ipython",
    "version": 3
   },
   "file_extension": ".py",
   "mimetype": "text/x-python",
   "name": "python",
   "nbconvert_exporter": "python",
   "pygments_lexer": "ipython3",
   "version": "3.7.6"
  }
 },
 "nbformat": 4,
 "nbformat_minor": 4
}
