{
 "cells": [
  {
   "cell_type": "code",
   "execution_count": 12,
   "metadata": {},
   "outputs": [],
   "source": [
    "from scipy import optimize\n",
    "import numpy as np\n",
    "import matplotlib.pyplot as plt\n",
    "import pandas as pd\n",
    "from numba import jit\n",
    "import time\n",
    "import math"
   ]
  },
  {
   "cell_type": "code",
   "execution_count": 13,
   "metadata": {},
   "outputs": [],
   "source": [
    "fitness_per_eval = []\n",
    "fitness_per_iter = []"
   ]
  },
  {
   "cell_type": "code",
   "execution_count": 14,
   "metadata": {},
   "outputs": [],
   "source": [
    "griewankdf = pd.read_csv('../data/griewank.csv')\n",
    "f_biasdf = pd.read_csv('../data/f_bias.csv')\n",
    "\n",
    "griewank = griewankdf.fvalue.values\n",
    "f_bias = f_biasdf.fvalue.values"
   ]
  },
  {
   "cell_type": "code",
   "execution_count": 15,
   "metadata": {},
   "outputs": [],
   "source": [
    "f_xstar = f_bias[4]\n",
    "search_space = (-600,600)"
   ]
  },
  {
   "cell_type": "markdown",
   "metadata": {},
   "source": [
    "```\n",
    "double Shifted_Griewank( int dim , double* x ){\n",
    "    int i;\n",
    "    double z;\n",
    "    double F1 = 0;\n",
    "    double F2 = 1;\n",
    "    for(i=0;i<dim;i++){       \n",
    "        z = x[i] - griewank[i];\n",
    "        F1 = F1 + ( pow(z,2) / 4000 );\n",
    "        F2 = F2 * ( cos(z/sqrt(i+1)));\n",
    "\n",
    "    }\n",
    "    return (F1 - F2 + 1 + f_bias[4]); \n",
    "}\n",
    "```"
   ]
  },
  {
   "cell_type": "code",
   "execution_count": 16,
   "metadata": {},
   "outputs": [],
   "source": [
    "@jit(nopython=True)\n",
    "def fgriewank(x, dim):\n",
    "    F1 = 0\n",
    "    F2 = 1\n",
    "    \n",
    "    for i in range(dim-1):\n",
    "        z = x[i] - griewank[i]\n",
    "        F1 += z**2 / 4000\n",
    "        F2 += math.cos( z / math.sqrt(i+1) )\n",
    "        \n",
    "    result = F1 - F2 + 1 + f_xstar\n",
    "  \n",
    "    return result"
   ]
  },
  {
   "cell_type": "code",
   "execution_count": 17,
   "metadata": {},
   "outputs": [],
   "source": [
    "def f(x,dim):\n",
    "    \n",
    "#     ro = 1\n",
    "#     result = frosen(x,dim)\n",
    "#     for i in range(dim-1):\n",
    "#         if x[i] < -100:\n",
    "#             result += ro * (-100 - x[i]) ** 2\n",
    "#         elif x[i] > 100:\n",
    "#             result += ro * (x[i] - 100) ** 2\n",
    "    \n",
    "    result = fgriewank(x,dim)\n",
    "    fitness_per_eval.append(result-f_xstar)\n",
    "    return result"
   ]
  },
  {
   "cell_type": "code",
   "execution_count": 18,
   "metadata": {},
   "outputs": [],
   "source": [
    "def callback_f(xk):\n",
    "    result = fgriewank(xk,D)\n",
    "    fitness_per_iter.append(result-f_xstar)"
   ]
  },
  {
   "cell_type": "code",
   "execution_count": 19,
   "metadata": {},
   "outputs": [],
   "source": [
    "def initial_solution(dim,bounds):\n",
    "    # bounds\n",
    "    xmin, xmax = bounds\n",
    "    x_min = xmin * np.ones(D)\n",
    "    x_max = xmax * np.ones(D)\n",
    "    cur_x = np.random.uniform(min(x_min), max(x_max), (1, D))\n",
    "    return cur_x"
   ]
  },
  {
   "cell_type": "code",
   "execution_count": 20,
   "metadata": {
    "scrolled": true
   },
   "outputs": [],
   "source": [
    "def optimize_minimize(dim,search_space,method,options):\n",
    "    global fitness_per_eval\n",
    "    global fitness_per_iter\n",
    "    \n",
    "    fitness_per_eval = []\n",
    "    fitness_per_iter = []\n",
    "    \n",
    "    result=None\n",
    "    cur_x = initial_solution(dim,search_space)\n",
    "    t0 = time.time()\n",
    "    result = optimize.minimize(f, args=(dim), x0=cur_x, method=method, options=options, callback=callback_f)\n",
    "    t1 = time.time()\n",
    "    return result, t1-t0"
   ]
  },
  {
   "cell_type": "code",
   "execution_count": 25,
   "metadata": {},
   "outputs": [],
   "source": [
    "D = 50\n",
    "\n",
    "method = 'L-BFGS-B'\n",
    "options = {'maxiter': 100, 'gtol': 1e-5, 'disp': False}\n",
    "# method = 'Nelder-Mead'\n",
    "# options = {'maxiter': 20000, 'ftol': 1e-3, 'disp': False, 'adaptive':True}\n",
    "\n",
    "result, duration = optimize_minimize(D,search_space,method,options)"
   ]
  },
  {
   "cell_type": "code",
   "execution_count": 29,
   "metadata": {},
   "outputs": [
    {
     "name": "stdout",
     "output_type": "stream",
     "text": [
      "Algorithm: L-BFGS-B\n",
      "Parameters: {'maxiter': 100, 'gtol': 1e-05, 'disp': False}\n",
      "Solution: 244.511165 - Fitness: 424.511165\n",
      "-180.0\n",
      "Nb of functions evaluations: 4284 in 56 iterations\n",
      "Stopping criterion: b'CONVERGENCE: REL_REDUCTION_OF_F_<=_FACTR*EPSMCH'\n",
      "computanional time: 0.044 seconds\n"
     ]
    }
   ],
   "source": [
    "print(\"Algorithm: %s\" % method)\n",
    "print(\"Parameters: %s\" % options)\n",
    "print(\"Solution: %f - Fitness: %f\" % (result.fun,fitness_per_eval[-1]))\n",
    "print(f_xstar)\n",
    "print(\"Nb of functions evaluations: %d in %d iterations\" % (result.nfev,result.nit))\n",
    "print(\"Stopping criterion: %s\" % result.message)\n",
    "print(\"computanional time: %.3f seconds\" % duration)"
   ]
  },
  {
   "cell_type": "code",
   "execution_count": 27,
   "metadata": {
    "scrolled": true
   },
   "outputs": [
    {
     "data": {
      "image/png": "[encoded data removed]",
      "text/plain": [
       "<Figure size 432x288 with 1 Axes>"
      ]
     },
     "metadata": {
      "needs_background": "light"
     },
     "output_type": "display_data"
    }
   ],
   "source": [
    "plt.plot(fitness_per_eval)\n",
    "plt.show();"
   ]
  },
  {
   "cell_type": "code",
   "execution_count": 28,
   "metadata": {
    "scrolled": false
   },
   "outputs": [
    {
     "data": {
      "image/png": "[encoded data removed]",
      "text/plain": [
       "<Figure size 432x288 with 1 Axes>"
      ]
     },
     "metadata": {
      "needs_background": "light"
     },
     "output_type": "display_data"
    }
   ],
   "source": [
    "plt.plot(fitness_per_iter)\n",
    "plt.show();"
   ]
  },
  {
   "cell_type": "code",
   "execution_count": null,
   "metadata": {},
   "outputs": [],
   "source": [
    "D = 500\n",
    "\n",
    "# method = 'L-BFGS-B'\n",
    "# options = {'maxiter': 100, 'gtol': 1e-5, 'disp': False}\n",
    "method = 'SLSQP'\n",
    "options = {'maxiter': 100, 'ftol': 1e-5, 'disp': False}\n",
    "\n",
    "result, duration = optimize_minimize(D,search_space,method,options)"
   ]
  },
  {
   "cell_type": "code",
   "execution_count": null,
   "metadata": {},
   "outputs": [],
   "source": [
    "print(\"Algorithm: %s\" % method)\n",
    "print(\"Parameters: %s\" % options)\n",
    "print(\"Solution: %f - Fitness: %f\" % (result.fun,fitness_per_eval[-1]))\n",
    "print(\"Nb of functions evaluations: %d in %d iterations\" % (result.nfev,result.nit))\n",
    "print(\"Stopping criterion: %s\" % result.message)\n",
    "print(\"computanional time: %.3f seconds\" % duration)"
   ]
  },
  {
   "cell_type": "code",
   "execution_count": null,
   "metadata": {
    "scrolled": true
   },
   "outputs": [],
   "source": [
    "plt.plot(fitness_per_eval)\n",
    "plt.show();"
   ]
  },
  {
   "cell_type": "code",
   "execution_count": null,
   "metadata": {
    "scrolled": true
   },
   "outputs": [],
   "source": [
    "plt.plot(fitness_per_iter)\n",
    "plt.show();"
   ]
  }
 ],
 "metadata": {
  "kernelspec": {
   "display_name": "meta",
   "language": "python",
   "name": "meta"
  },
  "language_info": {
   "codemirror_mode": {
    "name": "ipython",
    "version": 3
   },
   "file_extension": ".py",
   "mimetype": "text/x-python",
   "name": "python",
   "nbconvert_exporter": "python",
   "pygments_lexer": "ipython3",
   "version": "3.7.6"
  }
 },
 "nbformat": 4,
 "nbformat_minor": 4
}
