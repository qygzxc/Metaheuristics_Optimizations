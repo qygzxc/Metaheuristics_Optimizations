{
 "cells": [
  {
   "cell_type": "code",
   "execution_count": 2,
   "metadata": {},
   "outputs": [],
   "source": [
    "import os\n",
    "import time\n",
    "import math\n",
    "import pandas as pd\n",
    "import numpy as np\n",
    "\n",
    "import matplotlib.pyplot as plt\n",
    "\n",
    "from numba import jit\n",
    "import pygmo as pg"
   ]
  },
  {
   "cell_type": "code",
   "execution_count": 3,
   "metadata": {},
   "outputs": [],
   "source": [
    "\n",
    "# parameters\n",
    "\n",
    "func_name = 'rosenbrock'\n",
    "search_space = (-100, 100)\n"
   ]
  },
  {
   "cell_type": "code",
   "execution_count": 4,
   "metadata": {},
   "outputs": [],
   "source": [
    "funcs = {\"sphere\":0,\"schwefel\":1,\"rosenbrock\":2,\"rastrigin\":3,\"griewank\":4,\"ackley\":5}\n",
    "\n",
    "val_path = os.path.join('../data/',func_name+'.csv')\n",
    "bias_path = '../data/f_bias.csv'\n",
    "\n",
    "funcdf = pd.read_csv(val_path)\n",
    "biasdf = pd.read_csv(bias_path)\n",
    "\n",
    "funcval = funcdf.fvalue.values\n",
    "funcbias = biasdf.fvalue.values[funcs[func_name]]"
   ]
  },
  {
   "cell_type": "code",
   "execution_count": 5,
   "metadata": {},
   "outputs": [],
   "source": [
    "# function definitions\n",
    "\n",
    "# @jit(nopython=True)\n",
    "def eval_fitness(x, dim):\n",
    "    \n",
    "    if func_name == \"sphere\":\n",
    "        F = 0\n",
    "        for i in range(dim - 1):\n",
    "            z = x[i] - funcval[i]\n",
    "            F += z * z\n",
    "        result = F + funcbias\n",
    "    elif func_name == \"schwevel\":\n",
    "        F = abs(x[0])\n",
    "        for i in range(dim - 1):\n",
    "            z = x[i] - funcval[i]\n",
    "            F = max(F, abs(z))\n",
    "        result = F + funcbias\n",
    "    elif func_name == \"rosenbrock\":\n",
    "        F = 0\n",
    "        for i in range(dim - 1):\n",
    "            z = x[i] - funcval[i]\n",
    "            F += z * z\n",
    "        result = F + funcbias\n",
    "    elif func_name == \"rastrigin\":\n",
    "        F = 0\n",
    "        for i in range(dim - 1):\n",
    "            z = x[i] - funcval[i]\n",
    "            F += z ** 2 - 10 * math.cos(2 * math.pi * z) + 10\n",
    "        result = F + funcbias\n",
    "    elif func_name == \"griewank\":\n",
    "        F1 = 0\n",
    "        F2 = 1\n",
    "        for i in range(dim - 1):\n",
    "            z = x[i] - funcval[i]\n",
    "            F1 += z ** 2 / 4000\n",
    "            F2 += math.cos(z / math.sqrt(i + 1))\n",
    "        result = F1 - F2 + 1 + funcbias\n",
    "    elif func_name == \"ackley\":\n",
    "        Sum1 = 0\n",
    "        Sum2 = 0\n",
    "        for i in range(dim - 1):\n",
    "            z = x[i] - funcval[i]\n",
    "            Sum1 += z ** 2\n",
    "            Sum2 += math.cos(2 * math.pi * z)\n",
    "        result = -20 * math.exp(-0.2 * math.sqrt(Sum1 / dim)) - math.exp(Sum2 / dim) + 20 + math.e + funcbias\n",
    "    \n",
    "    return result"
   ]
  },
  {
   "cell_type": "code",
   "execution_count": 6,
   "metadata": {},
   "outputs": [],
   "source": [
    "# Define problem Class\n",
    "class My_problem:\n",
    "\n",
    "    def __init__(self, dim, bounds, glob_opt):\n",
    "        self.lower_bound = bounds[0]\n",
    "        self.upper_bound = bounds[1]\n",
    "        self.dimension = dim\n",
    "        self.fitness_per_eval = []\n",
    "        self.glob_opt = glob_opt\n",
    "\n",
    "    def fitness(self, x):\n",
    "        result = eval_fitness(x, self.dimension)\n",
    "        return [result]\n",
    "\n",
    "    def get_bounds(self):\n",
    "        x_min = self.lower_bound * np.ones(self.dimension)\n",
    "        x_max = self.upper_bound * np.ones(self.dimension)\n",
    "        return x_min, x_max"
   ]
  },
  {
   "cell_type": "code",
   "execution_count": 7,
   "metadata": {},
   "outputs": [],
   "source": [
    "def solve_pb(dim, myalgo, bounds, optim, pop_size):\n",
    "    \n",
    "    prob = pg.problem(My_problem(dim, bounds, optim))\n",
    "    pop = pg.population(prob, pop_size)\n",
    "    \n",
    "    myalgo.set_verbosity(1)\n",
    "    \n",
    "    t1 = time.time()\n",
    "    pop = algo.evolve(pop)\n",
    "    t2 = time.time()\n",
    "\n",
    "    # define what to return\n",
    "    # solution = {algorithm, parameters, solution, fitness, nb_eval, stop_criterion, compute_time, convergence_curve}\n",
    "\n",
    "    # extract_algo = algo.extract(pg.nlopt)\n",
    "    # log = extract_algo.get_log()\n",
    "\n",
    "    solution = 0\n",
    "    return solution"
   ]
  },
  {
   "cell_type": "code",
   "execution_count": 8,
   "metadata": {},
   "outputs": [],
   "source": [
    "def print_solution(mysoluc):\n",
    "    print(\"Algorithm: %s\" % prob.get_name())\n",
    "    # print(\"Parameters: %s\" % options)\n",
    "    print(\"Solution: \", pop.champion_x)\n",
    "    print(\"Fitness: %f\" % pop.champion_f[0])\n",
    "    # print(\"Nb of functions evaluations: %d in %d iterations\" % (result.nfev,result.nit))\n",
    "    print(\"Nb of functions evaluations: %d in %d iterations\" % (prob.get_fevals(), 0))\n",
    "    # print(\"Stopping criterion: %s\" % result.message)\n",
    "\n",
    "    duration = t2 - t1\n",
    "    print(\"computanional time: %.3f seconds\" % duration)\n",
    "\n",
    "    gbest = [x[1] for x in log]\n",
    "    plt.plot(gbest)\n",
    "    print(gbest)\n",
    "    plt.show()\n",
    "    print(f_xstar)"
   ]
  },
  {
   "cell_type": "code",
   "execution_count": 9,
   "metadata": {},
   "outputs": [
    {
     "name": "stdout",
     "output_type": "stream",
     "text": [
      "CPU times: user 14.7 ms, sys: 286 µs, total: 15 ms\n",
      "Wall time: 14.1 ms\n"
     ]
    }
   ],
   "source": [
    "# Solve problem in dimension 50\n",
    "DIM = 50\n",
    "algo = pg.algorithm(pg.pso(gen=10))\n",
    "# algo = pg.algorithm(pg.nlopt(solver='neldermead'))\n",
    "%time x = solve_pb(dim=DIM, myalgo=algo, bounds=search_space, optim=funcbias, pop_size=10)"
   ]
  },
  {
   "cell_type": "code",
   "execution_count": 16,
   "metadata": {},
   "outputs": [
    {
     "name": "stdout",
     "output_type": "stream",
     "text": [
      "\tGenerations: 10\n",
      "\tOmega: 0.7298\n",
      "\tEta1: 2.05\n",
      "\tEta2: 2.05\n",
      "\tMaximum velocity: 0.5\n",
      "\tVariant: 5\n",
      "\tTopology: 2\n",
      "\tTopology parameter: 4\n",
      "\tMemory: false\n",
      "\tSeed: 385453403\n",
      "\tVerbosity: 1\n"
     ]
    }
   ],
   "source": [
    "print(prob.ge"
   ]
  }
 ],
 "metadata": {
  "kernelspec": {
   "display_name": "meta",
   "language": "python",
   "name": "meta"
  },
  "language_info": {
   "codemirror_mode": {
    "name": "ipython",
    "version": 3
   },
   "file_extension": ".py",
   "mimetype": "text/x-python",
   "name": "python",
   "nbconvert_exporter": "python",
   "pygments_lexer": "ipython3",
   "version": "3.7.6"
  }
 },
 "nbformat": 4,
 "nbformat_minor": 4
}
