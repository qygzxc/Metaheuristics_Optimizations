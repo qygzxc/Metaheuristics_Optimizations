{
 "cells": [
  {
   "cell_type": "code",
   "execution_count": 1,
   "metadata": {},
   "outputs": [
    {
     "ename": "ModuleNotFoundError",
     "evalue": "No module named 'matplotlib'",
     "output_type": "error",
     "traceback": [
      "\u001b[0;31m---------------------------------------------------------------------------\u001b[0m",
      "\u001b[0;31mModuleNotFoundError\u001b[0m                       Traceback (most recent call last)",
      "\u001b[0;32m<ipython-input-1-9fed87fb3dd6>\u001b[0m in \u001b[0;36m<module>\u001b[0;34m\u001b[0m\n\u001b[1;32m      4\u001b[0m \u001b[0;32mimport\u001b[0m \u001b[0mpandas\u001b[0m \u001b[0;32mas\u001b[0m \u001b[0mpd\u001b[0m\u001b[0;34m\u001b[0m\u001b[0;34m\u001b[0m\u001b[0m\n\u001b[1;32m      5\u001b[0m \u001b[0;32mimport\u001b[0m \u001b[0mnumpy\u001b[0m \u001b[0;32mas\u001b[0m \u001b[0mnp\u001b[0m\u001b[0;34m\u001b[0m\u001b[0;34m\u001b[0m\u001b[0m\n\u001b[0;32m----> 6\u001b[0;31m \u001b[0;32mimport\u001b[0m \u001b[0mmatplotlib\u001b[0m\u001b[0;34m.\u001b[0m\u001b[0mpyplot\u001b[0m \u001b[0;32mas\u001b[0m \u001b[0mplt\u001b[0m\u001b[0;34m\u001b[0m\u001b[0;34m\u001b[0m\u001b[0m\n\u001b[0m\u001b[1;32m      7\u001b[0m \u001b[0;34m\u001b[0m\u001b[0m\n\u001b[1;32m      8\u001b[0m \u001b[0;32mfrom\u001b[0m \u001b[0mnumba\u001b[0m \u001b[0;32mimport\u001b[0m \u001b[0mjit\u001b[0m\u001b[0;34m\u001b[0m\u001b[0;34m\u001b[0m\u001b[0m\n",
      "\u001b[0;31mModuleNotFoundError\u001b[0m: No module named 'matplotlib'"
     ]
    }
   ],
   "source": [
    "import os\n",
    "import time\n",
    "import math\n",
    "import pandas as pd\n",
    "import numpy as np\n",
    "import matplotlib.pyplot as plt\n",
    "\n",
    "from numba import jit\n",
    "import pygmo as pg"
   ]
  },
  {
   "cell_type": "code",
   "execution_count": 2,
   "metadata": {},
   "outputs": [],
   "source": [
    "funcs = {\"sphere\": 0, \"schwefel\": 1, \"rosenbrock\": 2, \"rastrigin\": 3, \"griewank\": 4, \"ackley\": 5}\n",
    "funcs_dispname = {\"sphere\": \"F1 : Shifted Sphere Function\", \n",
    "                  \"schwefel\": \"F2 : Schwefel’s Problem 2.21\",\n",
    "                  \"rosenbrock\": \"F3 : Shifted Rosenbrock’s Function\",\n",
    "                  \"rastrigin\": \"F4 : Shifted Rastrigin’s Function\",\n",
    "                  \"griewank\": \"F5 : Shifted Griewank’s Function\",\n",
    "                  \"ackley\": \"F6 : Shifted Ackley’s Function\"}"
   ]
  },
  {
   "cell_type": "code",
   "execution_count": 3,
   "metadata": {},
   "outputs": [],
   "source": [
    "def read_values(func):\n",
    "    val_path = os.path.join('../data/', func_name + '.csv')\n",
    "    bias_path = '../data/f_bias.csv'\n",
    "    ss_path = '../data/search_space.csv'\n",
    "    \n",
    "    func_df = pd.read_csv(val_path)\n",
    "    bias_df = pd.read_csv(bias_path)\n",
    "    searchspace_df = pd.read_csv(ss_path)\n",
    "\n",
    "    funcval = func_df.fvalue.values\n",
    "    funcbias = bias_df.fvalue.values[funcs[func_name]]\n",
    "    search_space = list(searchspace_df.iloc[funcs[func_name],])\n",
    "    return funcval, funcbias, search_space"
   ]
  },
  {
   "cell_type": "code",
   "execution_count": 4,
   "metadata": {},
   "outputs": [],
   "source": [
    "# function evaluation definitions\n",
    "\n",
    "@jit(nopython=True)\n",
    "def eval_fitness(x, dim):\n",
    "    if func_name == \"sphere\":\n",
    "        F = 0\n",
    "        for i in range(dim - 1):\n",
    "            z = x[i] - funcval[i]\n",
    "            F += z * z\n",
    "        result = F + funcbias\n",
    "    elif func_name == \"schwefel\":\n",
    "        F = abs(x[0])\n",
    "        for i in range(dim - 1):\n",
    "            z = x[i] - funcval[i]\n",
    "            F = max(F, abs(z))\n",
    "        result = F + funcbias\n",
    "    elif func_name == \"rosenbrock\":\n",
    "        F = 0\n",
    "        for i in range(dim - 1):\n",
    "            z = x[i] - funcval[i]\n",
    "            F += z * z\n",
    "        result = F + funcbias\n",
    "    elif func_name == \"rastrigin\":\n",
    "        F = 0\n",
    "        for i in range(dim - 1):\n",
    "            z = x[i] - funcval[i]\n",
    "            F += z ** 2 - 10 * math.cos(2 * math.pi * z) + 10\n",
    "        result = F + funcbias\n",
    "    elif func_name == \"griewank\":\n",
    "        F1 = 0\n",
    "        F2 = 1\n",
    "        for i in range(dim - 1):\n",
    "            z = x[i] - funcval[i]\n",
    "            F1 += z ** 2 / 4000\n",
    "            F2 += math.cos(z / math.sqrt(i + 1))\n",
    "        result = F1 - F2 + 1 + funcbias\n",
    "    elif func_name == \"ackley\":\n",
    "        Sum1 = 0\n",
    "        Sum2 = 0\n",
    "        for i in range(dim - 1):\n",
    "            z = x[i] - funcval[i]\n",
    "            Sum1 += z ** 2\n",
    "            Sum2 += math.cos(2 * math.pi * z)\n",
    "        result = -20 * math.exp(-0.2 * math.sqrt(Sum1 / dim)) - math.exp(Sum2 / dim) + 20 + math.e + funcbias\n",
    "    else:\n",
    "        result = 0\n",
    "    \n",
    "    return result"
   ]
  },
  {
   "cell_type": "code",
   "execution_count": 5,
   "metadata": {},
   "outputs": [],
   "source": [
    "# Define UDP problem Class\n",
    "\n",
    "class My_problem:\n",
    "    def __init__(self, dim, bounds, glob_opt):\n",
    "        self.lower_bound = bounds[0]\n",
    "        self.upper_bound = bounds[1]\n",
    "        self.dimension = dim\n",
    "        self.fitness_per_eval = []\n",
    "        self.glob_opt = glob_opt\n",
    "\n",
    "    def fitness(self, x):\n",
    "        result = eval_fitness(x, self.dimension)\n",
    "        return [result]\n",
    "\n",
    "    def get_bounds(self):\n",
    "        x_min = self.lower_bound * np.ones(self.dimension)\n",
    "        x_max = self.upper_bound * np.ones(self.dimension)\n",
    "        return x_min, x_max"
   ]
  },
  {
   "cell_type": "code",
   "execution_count": 6,
   "metadata": {},
   "outputs": [],
   "source": [
    "# function to run selected algorithm on defined problem\n",
    "\n",
    "def solve_pb(dim, my_algo, bounds, optim, popsize):\n",
    "    prob = pg.problem(My_problem(dim, bounds, optim))\n",
    "    pop = pg.population(prob, popsize)\n",
    "\n",
    "    my_algo.set_verbosity(1)\n",
    "\n",
    "    t1 = time.time()\n",
    "    pop = my_algo.evolve(pop)\n",
    "    t2 = time.time()\n",
    "\n",
    "    time_diff = t2-t1\n",
    "    \n",
    "    if my_algo.get_name().split(\":\")[0] == \"PSO\":\n",
    "        extract_algo = my_algo.extract(pg.pso)\n",
    "    elif my_algo.get_name().split(\":\")[0] == \"GACO\":\n",
    "        extract_algo = my_algo.extract(pg.gaco)\n",
    "    elif my_algo.get_name().split(\":\")[0] == \"DE\":\n",
    "        extract_algo = my_algo.extract(pg.de)\n",
    "    elif my_algo.get_name().split(\":\")[0] == \"saDE\":\n",
    "        extract_algo = my_algo.extract(pg.sade)\n",
    "    elif my_algo.get_name().split(\":\")[0] == \"IHS\":\n",
    "        extract_algo = my_algo.extract(pg.ihs)\n",
    "    elif my_algo.get_name().split(\":\")[0] == \"SGA\":\n",
    "        extract_algo = my_algo.extract(pg.sga)\n",
    "    elif my_algo.get_name().split(\":\")[0] == \"ABC\":\n",
    "        extract_algo = my_algo.extract(pg.bee_colony)\n",
    "    \n",
    "    log = extract_algo.get_log()\n",
    "    curve = [x[2] for x in log]\n",
    "    niter = log[-1][0]\n",
    "    \n",
    "    return pop, curve, niter, time_diff"
   ]
  },
  {
   "cell_type": "code",
   "execution_count": 57,
   "metadata": {},
   "outputs": [],
   "source": [
    "# function to make print report of function solving\n",
    "\n",
    "def print_solution(dimension, my_algo, pop_evolved, log, niter, duration):\n",
    "    algorithm_name = my_algo.get_name()\n",
    "    parameters = my_algo.get_extra_info()\n",
    "    solution_x = pop_evolved.champion_x\n",
    "    fitness = pop_evolved.champion_f[0]-funcbias\n",
    "    n_evals = pop_evolved.problem.get_fevals()\n",
    "    \n",
    "    print(\"Function: %s\" % funcs_dispname[func_name])\n",
    "    print(\"Problem dimension: %d\" % dimension)\n",
    "    print(\"Search Space : \", search_space)\n",
    "    print(\"Global Optimum: %.2f\\n\" % funcbias)\n",
    "    print(\"Algorithm: %s\" % algorithm_name)\n",
    "    print(\"Parameters: \\n%s\\n\" % parameters)\n",
    "    print(\"Fitness: %f\" % fitness)\n",
    "    print(\"Solution: \")\n",
    "    with pd.option_context('display.max_rows',10):\n",
    "        print(pd.DataFrame(solution_x, columns=['X']))\n",
    "    print(\"\\nNb of functions evaluations: %d\" % n_evals)\n",
    "    print(\"Stopping criterion: after %d iterations\" % niter)\n",
    "    print(\"computational time: %.3f seconds\" % duration)\n",
    "\n",
    "    plt.plot(log)\n",
    "    plt.xlabel(\"iterations\")\n",
    "    plt.ylabel(\"fitness: f(x)-f(x*)\")\n",
    "    plt.show()"
   ]
  },
  {
   "cell_type": "code",
   "execution_count": 55,
   "metadata": {},
   "outputs": [],
   "source": [
    "# define algorithm and parameters to use\n",
    "\n",
    "algo = pg.algorithm(pg.pso(gen=2000))\n",
    "pop_size = 150\n",
    "\n",
    "# algo = pg.algorithm(pg.gaco(gen=500))\n",
    "# pop_size = 150\n",
    "\n",
    "# algo = pg.algorithm(pg.de(gen=500))\n",
    "# pop_size = 150\n",
    "\n",
    "# algo = pg.algorithm(pg.sga(gen=500))\n",
    "# pop_size = 150\n",
    "\n",
    "# algo = pg.algorithm(pg.bee_colony(gen=500))\n",
    "# pop_size = 150\n",
    "\n",
    "# algo = pg.algorithm(pg.sade(gen=500))\n",
    "# pop_size = 150\n",
    "\n",
    "# algo = pg.algorithm(pg.ihs(gen=500))\n",
    "# pop_size = 150"
   ]
  },
  {
   "cell_type": "code",
   "execution_count": 53,
   "metadata": {},
   "outputs": [],
   "source": [
    "# select function of problem to be solved\n",
    "\n",
    "# function to choose: sphere, schwefel, rosenbrock, rastrigin, griewank, ackley\n",
    "func_name = 'schwefel'\n"
   ]
  },
  {
   "cell_type": "code",
   "execution_count": 58,
   "metadata": {},
   "outputs": [
    {
     "name": "stdout",
     "output_type": "stream",
     "text": [
      "Function: F2 : Schwefel’s Problem 2.21\n",
      "Problem dimension: 50\n",
      "Search Space :  [-100, 100]\n",
      "Global Optimum: -450.00\n",
      "\n",
      "Algorithm: PSO: Particle Swarm Optimization\n",
      "Parameters: \n",
      "\tGenerations: 2000\n",
      "\tOmega: 0.7298\n",
      "\tEta1: 2.05\n",
      "\tEta2: 2.05\n",
      "\tMaximum velocity: 0.5\n",
      "\tVariant: 5\n",
      "\tTopology: 2\n",
      "\tTopology parameter: 4\n",
      "\tMemory: false\n",
      "\tSeed: 2502844314\n",
      "\tVerbosity: 1\n",
      "\n",
      "Fitness: 13.443949\n",
      "Solution: \n",
      "            X\n",
      "0  -13.443949\n",
      "1   -1.076674\n",
      "2  -61.014389\n",
      "3  -99.995143\n",
      "4    5.801343\n",
      "..        ...\n",
      "45 -92.119087\n",
      "46 -10.074831\n",
      "47 -79.061903\n",
      "48 -35.592300\n",
      "49 -74.359944\n",
      "\n",
      "[50 rows x 1 columns]\n",
      "\n",
      "Nb of functions evaluations: 300150\n",
      "Stopping criterion: after 2000 iterations\n",
      "computational time: 3.604 seconds\n"
     ]
    },
    {
     "data": {
      "image/png": "[encoded data removed]",
      "text/plain": [
       "<Figure size 432x288 with 1 Axes>"
      ]
     },
     "metadata": {
      "needs_background": "light"
     },
     "output_type": "display_data"
    }
   ],
   "source": [
    "# run algorithm and print solution\n",
    "DIM = 50\n",
    "funcval, funcbias, search_space = read_values(func_name)\n",
    "pop_evolv, logs, nit, compute_time = solve_pb(dim=DIM, my_algo=algo, bounds=search_space, optim=funcbias, popsize=pop_size)\n",
    "print_solution(dimension=DIM, my_algo=algo, pop_evolved=pop_evolv, log=logs, niter=nit, duration=compute_time)\n"
   ]
  }
 ],
 "metadata": {
  "kernelspec": {
   "display_name": "meta-xeus",
   "language": "python",
   "name": "meta-xeus"
  },
  "language_info": {
   "codemirror_mode": {
    "name": "ipython",
    "version": 3
   },
   "file_extension": ".py",
   "mimetype": "text/x-python",
   "name": "python",
   "nbconvert_exporter": "python",
   "pygments_lexer": "ipython3",
   "version": "3.7.7"
  }
 },
 "nbformat": 4,
 "nbformat_minor": 4
}
